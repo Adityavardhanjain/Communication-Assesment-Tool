{
 "cells": [
  {
   "cell_type": "code",
   "execution_count": 41,
   "id": "49b77065",
   "metadata": {},
   "outputs": [
    {
     "name": "stdout",
     "output_type": "stream",
     "text": [
      "Repeat the audio you just heard:\n",
      "Accuracy: 50.0 %\n",
      "The generated speech was: Hey, world! This is a message that extends regards to you warmly.\n",
      "You said: hey world this is the message that extends regards me with\n"
     ]
    }
   ],
   "source": [
    "import random\n",
    "from gtts import gTTS\n",
    "import speech_recognition as sr\n",
    "import os\n",
    "\n",
    "def calculate_accuracy(generated_text, recorded_text):\n",
    "    generated_words = generated_text.lower().split()\n",
    "    recorded_words = recorded_text.lower().split()\n",
    "    common_words = set(generated_words) & set(recorded_words)\n",
    "    accuracy_percentage = (len(common_words) / len(generated_words)) * 100\n",
    "    return accuracy_percentage\n",
    "\n",
    "def generate_speech_sample():\n",
    "    greetings = [\"Hello\", \"Hi\", \"Hey\", \"Greetings\", \"Salutations\"]\n",
    "    subjects = [\"world\", \"everyone\", \"friends\", \"colleagues\", \"team\", \"audience\"]\n",
    "    verbs = [\"welcomes\", \"greets\", \"acknowledges\", \"salutes\", \"extends regards to\"]\n",
    "    emotions = [\"with joy\", \"warmly\", \"enthusiastically\", \"with sincerity\", \"with open arms\"]\n",
    "\n",
    "    speech_sample = f\"{random.choice(greetings)}, {random.choice(subjects)}! \" \\\n",
    "                    f\"This is a message that {random.choice(verbs)} you {random.choice(emotions)}.\"\n",
    "    return speech_sample\n",
    "\n",
    "# Generate a random speech sample\n",
    "generated_speech = generate_speech_sample()\n",
    "\n",
    "def text_to_speech(text, language='en', filename='output.mp3'):\n",
    "    tts = gTTS(text=text, lang=language, slow=False)\n",
    "    tts.save(filename)\n",
    "    os.system(f\"start {filename}\")\n",
    "\n",
    "# Play the generated speech\n",
    "text_to_speech(generated_speech)\n",
    "\n",
    "# Initialize the recognizer\n",
    "r = sr.Recognizer()\n",
    "\n",
    "# Use a microphone or another audio source depending on your setup\n",
    "with sr.Microphone() as source:\n",
    "    print(\"Repeat the audio you just heard:\")\n",
    "\n",
    "    try:\n",
    "        # Set a timeout of 8 seconds\n",
    "        audio = r.listen(source, timeout=5)\n",
    "\n",
    "        # Recognize the spoken audio\n",
    "        recorded_text = r.recognize_google(audio)\n",
    "\n",
    "        # Calculate and print the accuracy percentage\n",
    "        accuracy = calculate_accuracy(generated_speech, recorded_text)\n",
    "        print(\"Accuracy:\", round(accuracy, 2), \"%\")\n",
    "\n",
    "        # Print the comparison result based on accuracy\n",
    "        if accuracy >= 90:\n",
    "            print(\"Congratulations! You repeated the generated speech correctly.\")\n",
    "        else:\n",
    "            print(\"The generated speech was:\", generated_speech)\n",
    "            print(\"You said:\", recorded_text)\n",
    "\n",
    "    except sr.UnknownValueError:\n",
    "        print(\"Could not understand audio\")\n",
    "        # Handle recognition errors\n",
    "\n",
    "    except sr.RequestError as e:\n",
    "        print(\"Could not request results from Google Speech Recognition service; {0}\".format(e))\n"
   ]
  },
  {
   "cell_type": "code",
   "execution_count": 39,
   "id": "9191ae42",
   "metadata": {},
   "outputs": [
    {
     "data": {
      "text/plain": [
       "15.384615384615385"
      ]
     },
     "execution_count": 39,
     "metadata": {},
     "output_type": "execute_result"
    }
   ],
   "source": [
    "accuracy"
   ]
  },
  {
   "cell_type": "code",
   "execution_count": null,
   "id": "4945f560",
   "metadata": {},
   "outputs": [],
   "source": []
  }
 ],
 "metadata": {
  "kernelspec": {
   "display_name": "Python 3 (ipykernel)",
   "language": "python",
   "name": "python3"
  },
  "language_info": {
   "codemirror_mode": {
    "name": "ipython",
    "version": 3
   },
   "file_extension": ".py",
   "mimetype": "text/x-python",
   "name": "python",
   "nbconvert_exporter": "python",
   "pygments_lexer": "ipython3",
   "version": "3.11.4"
  }
 },
 "nbformat": 4,
 "nbformat_minor": 5
}
