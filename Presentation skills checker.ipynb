{
 "cells": [
  {
   "cell_type": "code",
   "execution_count": 34,
   "id": "d6525ba2",
   "metadata": {
    "scrolled": true
   },
   "outputs": [
    {
     "name": "stdout",
     "output_type": "stream",
     "text": [
      "MoviePy - Writing audio in Downloads\\audio.wav\n"
     ]
    },
    {
     "name": "stderr",
     "output_type": "stream",
     "text": [
      "                                                                                                                       \r"
     ]
    },
    {
     "name": "stdout",
     "output_type": "stream",
     "text": [
      "MoviePy - Done.\n",
      "Video converted to audio successfully.\n"
     ]
    }
   ],
   "source": [
    "from moviepy.editor import VideoFileClip\n",
    "from pydub import AudioSegment\n",
    "import speech_recognition as sr\n",
    "import os\n",
    "import language_tool_python\n",
    "import textstat\n",
    "\n",
    "\n",
    "def video_to_audio(video_path, audio_path):\n",
    "    video_clip = VideoFileClip(video_path)\n",
    "    audio_clip = video_clip.audio\n",
    "    audio_clip.write_audiofile(audio_path)\n",
    "    audio_clip.close()\n",
    "\n",
    "def recognize_speech(audio_path):\n",
    "    recognizer = sr.Recognizer()\n",
    "    \n",
    "    with sr.AudioFile(audio_path) as source:\n",
    "        audio = recognizer.record(source)\n",
    "    \n",
    "    try:\n",
    "        text = recognizer.recognize_google(audio)\n",
    "        return text\n",
    "    except sr.UnknownValueError:\n",
    "        print(\"Sorry, could not understand audio.\")\n",
    "        return None\n",
    "    except sr.RequestError as e:\n",
    "        print(f\"Could not request results from Google Speech Recognition service; {e}\")\n",
    "        return None\n",
    "\n",
    "def split_audio(audio_path, segment_duration=10):\n",
    "    audio = AudioSegment.from_wav(audio_path)\n",
    "    segments = [audio[i:i+segment_duration*1000] for i in range(0, len(audio), segment_duration*1000)]\n",
    "    return segments\n",
    "\n",
    "if __name__ == \"__main__\":\n",
    "    # Step 1: Take video file path as input\n",
    "    video_path = \"bad.mp4\"\n",
    "\n",
    "    # Step 2: Specify output audio file path\n",
    "    output_directory = \"Downloads\"\n",
    "    os.makedirs(output_directory, exist_ok=True)  # Create output directory if it doesn't exist\n",
    "    audio_path = os.path.join(output_directory, \"audio.wav\")  # Output audio file path\n",
    "\n",
    "    # Step 3: Convert video to audio\n",
    "    video_to_audio(video_path, audio_path)\n",
    "    print(\"Video converted to audio successfully.\")\n",
    "\n",
    "    # Step 4: Split audio into segments\n",
    "    #  audio_segments = split_audio(audio_path)\n",
    "\n",
    "    # Step 5: Recognize speech from each segment\n",
    "    #      for i, segment in enumerate(audio_segments):\n",
    "    #         segment_path = os.path.join(output_directory, f\"segment_{i}.wav\")\n",
    "    #         segment.export(segment_path, format=\"wav\")\n",
    "    recognized_text = recognize_speech(\"Downloads/audio.wav\")\n",
    "\n",
    "\n",
    "##intonation checker \n",
    "import librosa\n",
    "import numpy as np\n",
    "\n",
    "audio_file = \"Downloads/audio.wav\"\n",
    "\n",
    "y, sr = librosa.load(audio_file, sr=None)\n",
    "\n",
    "pitch_values, _ = librosa.piptrack(y=y, sr=sr)\n",
    "\n",
    "pitch_values_mean = pitch_values.mean(axis=0)\n",
    "\n",
    "threshold_low_variation = 20  # Hz\n",
    "threshold_high_variation = 40  # Hz\n",
    "min_duration_low_variation = 3  # seconds\n",
    "min_duration_high_variation = 0.2  # seconds\n",
    "\n",
    "low_pitch_count = 0\n",
    "high_pitch_count = 0\n",
    "\n",
    "in_low_variation = False\n",
    "in_high_variation = False\n",
    "\n",
    "for pitch_value in pitch_values_mean:\n",
    "    if pitch_value < threshold_low_variation:\n",
    "        if not in_low_variation:\n",
    "            in_low_variation = True\n",
    "            low_pitch_count += 1\n",
    "            in_high_variation = False\n",
    "    elif pitch_value > threshold_high_variation:\n",
    "        if not in_high_variation:\n",
    "            in_high_variation = True\n",
    "            high_pitch_count += 1\n",
    "            in_low_variation = False\n",
    "    else:\n",
    "        in_low_variation = False\n",
    "        in_high_variation = False\n",
    "Intonation = ((high_pitch_count/low_pitch_count)*100)\n",
    "\n",
    "#checking Grammer\n",
    "def grammar_check(recognized_text):\n",
    "\n",
    "    tool = language_tool_python.LanguageTool('en-US')\n",
    "\n",
    "    matches = tool.check(recognized_text)\n",
    "\n",
    "    for match in matches:\n",
    "        print(\"Error:\", match.ruleId)\n",
    "        print(\"Message:\", match.message)\n",
    "        print(\"Suggestions:\", match.replacements)\n",
    "        print(\"-----------\")\n",
    "\n",
    "#checking Readability\n",
    "def gf_score(recognized_text):\n",
    "    gf_score=textstat.gunning_fog(recognized_text)\n",
    "    # Interpret the GFI score and provide a meaningful output\n",
    "    return gf_score"
   ]
  },
  {
   "cell_type": "code",
   "execution_count": 35,
   "id": "cb316cf5",
   "metadata": {},
   "outputs": [
    {
     "name": "stdout",
     "output_type": "stream",
     "text": [
      "Intonation Checker:  54.285714285714285\n",
      "Error: UPPERCASE_SENTENCE_START\n",
      "Message: This sentence does not start with an uppercase letter.\n",
      "Suggestions: ['Good']\n",
      "-----------\n",
      "Grammer checker:  None\n",
      "Readability chacker : 22.44\n"
     ]
    }
   ],
   "source": [
    "print(\"Intonation Checker: \",Intonation)\n",
    "print(\"Grammer checker: \",grammar_check(recognized_text))\n",
    "print(\"Readability score :\",gf_score(recognized_text))"
   ]
  },
  {
   "cell_type": "code",
   "execution_count": null,
   "id": "09b7db2f",
   "metadata": {
    "scrolled": true
   },
   "outputs": [],
   "source": []
  },
  {
   "cell_type": "code",
   "execution_count": null,
   "id": "cd91bd67",
   "metadata": {},
   "outputs": [],
   "source": []
  }
 ],
 "metadata": {
  "kernelspec": {
   "display_name": "Python 3 (ipykernel)",
   "language": "python",
   "name": "python3"
  },
  "language_info": {
   "codemirror_mode": {
    "name": "ipython",
    "version": 3
   },
   "file_extension": ".py",
   "mimetype": "text/x-python",
   "name": "python",
   "nbconvert_exporter": "python",
   "pygments_lexer": "ipython3",
   "version": "3.11.4"
  }
 },
 "nbformat": 4,
 "nbformat_minor": 5
}
