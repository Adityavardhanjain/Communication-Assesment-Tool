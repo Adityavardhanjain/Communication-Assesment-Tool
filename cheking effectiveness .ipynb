{
 "cells": [
  {
   "cell_type": "code",
   "execution_count": 1,
   "id": "d0354c59",
   "metadata": {
    "scrolled": true
   },
   "outputs": [
    {
     "name": "stdout",
     "output_type": "stream",
     "text": [
      "gf_score = textstat.gunning_fog(text)  # Interpret the GFI score and provide a meaningful output if gf_score <= 9:    print(\"The readability is very easy. Suitable for people with 4th-grade education or below.\") elif gf_score <= 13:    print(\"The readability is easy. Suitable for people with 7th-grade education.\") elif gf_score <= 17:    print(\"The readability is fairly easy. Suitable for people with 10th-grade education.\") elif gf_score <= 20:    print(\"The readability is standard. Suitable for college graduates.\") elif gf_score <= 24:    print(\"The readability is difficult. Suitable for college graduates with professional training.\") else:    print(\"The readability is very difficult. Suitable for advanced academic writing or specialized fields.\")\n"
     ]
    }
   ],
   "source": [
    "import textstat\n",
    "text = input()"
   ]
  },
  {
   "cell_type": "code",
   "execution_count": 2,
   "id": "4f2204f8",
   "metadata": {},
   "outputs": [
    {
     "name": "stdout",
     "output_type": "stream",
     "text": [
      "The readability is very easy\n"
     ]
    }
   ],
   "source": [
    "gf_score = textstat.gunning_fog(text)\n",
    "\n",
    "# Interpret the GFI score and provide a meaningful output\n",
    "if gf_score <= 9:\n",
    "   print(\"The readability is very easy\")\n",
    "elif gf_score <= 13:\n",
    "   print(\"The readability is easy.\")\n",
    "elif gf_score <= 17:\n",
    "   print(\"The readability is fairly easy.\")\n",
    "elif gf_score <= 20:\n",
    "   print(\"The readability is standard.\")\n",
    "elif gf_score <= 24:\n",
    "   print(\"The readability is difficult.\")\n",
    "else:\n",
    "   print(\"The readability is very difficult.\")\n"
   ]
  },
  {
   "cell_type": "code",
   "execution_count": null,
   "id": "b98b261e",
   "metadata": {},
   "outputs": [],
   "source": []
  },
  {
   "cell_type": "code",
   "execution_count": null,
   "id": "78823b08",
   "metadata": {},
   "outputs": [],
   "source": []
  }
 ],
 "metadata": {
  "kernelspec": {
   "display_name": "Python 3 (ipykernel)",
   "language": "python",
   "name": "python3"
  },
  "language_info": {
   "codemirror_mode": {
    "name": "ipython",
    "version": 3
   },
   "file_extension": ".py",
   "mimetype": "text/x-python",
   "name": "python",
   "nbconvert_exporter": "python",
   "pygments_lexer": "ipython3",
   "version": "3.11.4"
  }
 },
 "nbformat": 4,
 "nbformat_minor": 5
}
